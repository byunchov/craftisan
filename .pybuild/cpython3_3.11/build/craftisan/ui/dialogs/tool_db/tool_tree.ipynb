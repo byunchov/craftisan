{
 "cells": [
  {
   "cell_type": "code",
   "execution_count": 1,
   "metadata": {},
   "outputs": [],
   "source": [
    "from craftisan.tool_db.base import Session\n",
    "from craftisan.tool_db.model import Tool, Category, SubCategory, Pocket\n",
    "from sqlalchemy import or_, select"
   ]
  },
  {
   "cell_type": "code",
   "execution_count": 2,
   "metadata": {},
   "outputs": [],
   "source": [
    "session = Session()"
   ]
  },
  {
   "cell_type": "code",
   "execution_count": 6,
   "metadata": {},
   "outputs": [],
   "source": [
    "assigned_tools = None\n",
    "search_query = ''"
   ]
  },
  {
   "cell_type": "code",
   "execution_count": 7,
   "metadata": {},
   "outputs": [],
   "source": [
    "\n",
    "assigned_tool_ids = assigned_tools or (\n",
    "    select(Tool.id)\n",
    "    .join(Pocket, Pocket.toolId == Tool.id)\n",
    ")\n",
    "\n",
    "result = (\n",
    "    session.query(Category, SubCategory, Tool)\n",
    "    .join(SubCategory, Category.subcategories)\n",
    "    .join(Tool, SubCategory.tools)\n",
    "    .filter(\n",
    "        or_(\n",
    "            Tool.id.like(f'%{search_query}%'),\n",
    "            Tool.description.like(f'%{search_query}%'),\n",
    "        ),\n",
    "        # Tool.id.notin_(subquery),\n",
    "        Tool.id.notin_(assigned_tool_ids),\n",
    "    )\n",
    "    .all()\n",
    ")"
   ]
  },
  {
   "cell_type": "code",
   "execution_count": 8,
   "metadata": {},
   "outputs": [
    {
     "data": {
      "text/plain": [
       "[([1] Category Бургии, [1] Category Глухо пробиване, ToolModel[3]),\n",
       " ([1] Category Бургии, [2] Category Проходно пробиване, ToolModel[4]),\n",
       " ([1] Category Бургии, [2] Category Проходно пробиване, ToolModel[5]),\n",
       " ([1] Category Бургии, [2] Category Проходно пробиване, ToolModel[7]),\n",
       " ([1] Category Бургии, [2] Category Проходно пробиване, ToolModel[8]),\n",
       " ([1] Category Бургии, [1] Category Глухо пробиване, ToolModel[12]),\n",
       " ([1] Category Бургии, [2] Category Проходно пробиване, ToolModel[13]),\n",
       " ([1] Category Бургии, [2] Category Проходно пробиване, ToolModel[14]),\n",
       " ([2] Category Фрези, [3] Category Фрезери, ToolModel[3005]),\n",
       " ([2] Category Фрези, [4] Category Профилни, ToolModel[4000]),\n",
       " ([2] Category Фрези, [4] Category Профилни, ToolModel[4002]),\n",
       " ([2] Category Фрези, [4] Category Профилни, ToolModel[4003]),\n",
       " ([2] Category Фрези, [5] Category Многопрофилни, ToolModel[5000]),\n",
       " ([2] Category Фрези, [5] Category Многопрофилни, ToolModel[5002]),\n",
       " ([3] Category Агрегати, [6] Category Наклоняеми, ToolModel[6001])]"
      ]
     },
     "execution_count": 8,
     "metadata": {},
     "output_type": "execute_result"
    }
   ],
   "source": [
    "result"
   ]
  },
  {
   "cell_type": "code",
   "execution_count": 9,
   "metadata": {},
   "outputs": [],
   "source": [
    "result_grouped = {}\n",
    "\n",
    "for category, subcategory, tool in result:\n",
    "    \n",
    "    if category.id not in result_grouped:\n",
    "        result_grouped[category.id] = {\n",
    "            \"id\": category.id,\n",
    "            \"nodeType\": \"category\",\n",
    "            \"displayName\": category.fallbackText,\n",
    "            \"icon\": category.icon,\n",
    "            \"subcategories\": tuple(\n",
    "                {\n",
    "                    \"id\": subcat.id,\n",
    "                    \"nodeType\": \"subcategory\",\n",
    "                    \"displayName\": subcat.fallbackText,\n",
    "                    \"icon\": subcat.icon,\n",
    "                    \"tools\": tuple(\n",
    "                        {\n",
    "                            \"id\": tool.id,\n",
    "                            \"nodeType\": \"tool\",\n",
    "                            \"displayName\": str(tool),\n",
    "                            \"icon\": tool.icon,\n",
    "                        }\n",
    "                        for tool in subcat.tools\n",
    "                    ),\n",
    "                }\n",
    "                for subcat in category.subcategories\n",
    "            ),\n",
    "        }\n",
    "\n",
    "    # No need to check for duplication, just append to the existing structure\n",
    "    result_grouped[category.id][\"subcategories\"] += tuple(\n",
    "        {\n",
    "            \"id\": subcategory.id,\n",
    "            \"nodeType\": \"subcategory\",\n",
    "            \"displayName\": subcategory.fallbackText,\n",
    "            \"icon\": subcategory.icon,\n",
    "            \"tools\": tuple(\n",
    "                {\n",
    "                    \"id\": tool.id,\n",
    "                    \"nodeType\": \"tool\",\n",
    "                    \"displayName\": str(tool),\n",
    "                    \"icon\": tool.icon,\n",
    "                }\n",
    "                for tool in subcategory.tools\n",
    "            ),\n",
    "        }\n",
    "    )\n"
   ]
  },
  {
   "cell_type": "code",
   "execution_count": 11,
   "metadata": {},
   "outputs": [],
   "source": [
    "import json"
   ]
  },
  {
   "cell_type": "code",
   "execution_count": 12,
   "metadata": {},
   "outputs": [],
   "source": [
    "with open('test_unasigned.json', 'w+') as f:\n",
    "    json.dump(result_grouped, f)"
   ]
  },
  {
   "cell_type": "code",
   "execution_count": 13,
   "metadata": {},
   "outputs": [],
   "source": [
    "tools = (\n",
    "    session.query(Tool)\n",
    "    .filter(\n",
    "        or_(\n",
    "            Tool.id.like(f'%{search_query}%'),\n",
    "            Tool.description.like(f'%{search_query}%'),\n",
    "        ),\n",
    "        Tool.id.notin_(assigned_tool_ids),\n",
    "    )\n",
    "    .all()\n",
    ")\n",
    "\n",
    "data = {\n",
    "    tool.subcategory.categoryId: {\n",
    "            \"id\": tool.subcategory.categoryId,\n",
    "            \"nodeType\": \"category\",\n",
    "            \"displayName\": tool.subcategory.category.fallbackText,\n",
    "            \"icon\": tool.subcategory.category.icon,\n",
    "            \"subcategories\": {\n",
    "                \"id\": tool.subcategory.id,\n",
    "                \"nodeType\": \"subcategory\",\n",
    "                \"displayName\": tool.subcategory.fallbackText,\n",
    "                \"icon\": tool.subcategory.icon,\n",
    "                \"tools\": tuple({\n",
    "                    \"id\": tool.id,\n",
    "                    \"nodeType\": \"tool\",\n",
    "                    \"displayName\": str(tool),\n",
    "                    \"icon\": tool.icon,\n",
    "                } for tool in tools),\n",
    "            }\n",
    "        } for tool in tools\n",
    "    }\n"
   ]
  },
  {
   "cell_type": "code",
   "execution_count": 15,
   "metadata": {},
   "outputs": [],
   "source": [
    "with open('test_generator.json', 'w+') as f:\n",
    "    json.dump(data, f)"
   ]
  },
  {
   "cell_type": "code",
   "execution_count": 16,
   "metadata": {},
   "outputs": [],
   "source": [
    "tools_result = (\n",
    "    session.query(Tool)\n",
    "    .filter(\n",
    "        or_(\n",
    "            Tool.id.like(f'%{search_query}%'),\n",
    "            Tool.description.like(f'%{search_query}%'),\n",
    "        ),\n",
    "        Tool.id.notin_(assigned_tool_ids),\n",
    "    )\n",
    "    .all()\n",
    ")\n",
    "\n",
    "result_grouped = {}\n",
    "\n",
    "for tool in tools_result:\n",
    "    # Assuming each tool is associated with a single subcategory and category\n",
    "    subcategory = tool.subcategory\n",
    "    category = subcategory.category\n",
    "\n",
    "    if category.id not in result_grouped:\n",
    "        result_grouped[category.id] = {\n",
    "            \"id\": category.id,\n",
    "            \"nodeType\": \"category\",\n",
    "            \"displayName\": category.fallbackText,\n",
    "            \"icon\": category.icon,\n",
    "            \"subcategories\": [],\n",
    "        }\n",
    "\n",
    "    subcategory_entry = {\n",
    "        \"id\": subcategory.id,\n",
    "        \"nodeType\": \"subcategory\",\n",
    "        \"displayName\": subcategory.fallbackText,\n",
    "        \"icon\": subcategory.icon,\n",
    "        \"tools\": [],\n",
    "    }\n",
    "\n",
    "    # No need to check for duplication, just append to the existing structure\n",
    "    subcategory_entry[\"tools\"].append({\n",
    "        \"id\": tool.id,\n",
    "        \"nodeType\": \"tool\",\n",
    "        \"displayName\": str(tool),\n",
    "        \"icon\": tool.icon,\n",
    "    })\n",
    "\n",
    "    result_grouped[category.id][\"subcategories\"].append(subcategory_entry)\n"
   ]
  },
  {
   "cell_type": "code",
   "execution_count": 17,
   "metadata": {},
   "outputs": [],
   "source": [
    "with open('test_chat_v2.json', 'w+') as f:\n",
    "    json.dump(data, f)"
   ]
  },
  {
   "cell_type": "code",
   "execution_count": null,
   "metadata": {},
   "outputs": [],
   "source": [
    "for tool in tools:\n",
    "    print(tool.subcategory)"
   ]
  },
  {
   "cell_type": "code",
   "execution_count": 20,
   "metadata": {},
   "outputs": [],
   "source": [
    "tools_by_subcategory = {}\n",
    "\n",
    "for tool in tools_result:\n",
    "    subcategory = tool.subcategory\n",
    "\n",
    "    if subcategory.id not in tools_by_subcategory:\n",
    "        tools_by_subcategory[subcategory.id] = {\n",
    "            \"id\": subcategory.id,\n",
    "            \"nodeType\": \"subcategory\",\n",
    "            \"displayName\": subcategory.fallbackText,\n",
    "            \"icon\": subcategory.icon,\n",
    "            \"tools\": [],\n",
    "        }\n",
    "\n",
    "    # Add the tool to the subcategory\n",
    "    tools_by_subcategory[subcategory.id][\"tools\"].append({\n",
    "        \"id\": tool.id,\n",
    "        \"nodeType\": \"tool\",\n",
    "        \"displayName\": str(tool),\n",
    "        \"icon\": tool.icon,\n",
    "    })\n",
    "\n"
   ]
  },
  {
   "cell_type": "code",
   "execution_count": 31,
   "metadata": {},
   "outputs": [],
   "source": [
    "tool_tree = {}\n",
    "\n",
    "for tool in tools_result:\n",
    "    subcategory = tool.subcategory\n",
    "    category = subcategory.category\n",
    "\n",
    "    if category.id not in tool_tree:\n",
    "        tool_tree[category.id] = {\n",
    "            \"id\": category.id,\n",
    "            \"nodeType\": \"category\",\n",
    "            \"displayName\": category.fallbackText,\n",
    "            \"icon\": category.icon,\n",
    "            \"subcategories\": [],\n",
    "            \"subcat\": {},\n",
    "        }\n",
    "\n",
    "    if subcategory.id not in tool_tree[category.id]['subcat']:\n",
    "        tool_tree[category.id]['subcat'][subcategory.id] = {\n",
    "            \"id\": subcategory.id,\n",
    "            \"nodeType\": \"subcategory\",\n",
    "            \"displayName\": subcategory.fallbackText,\n",
    "            \"icon\": subcategory.icon,\n",
    "            \"tools\": [],\n",
    "        }\n",
    "\n",
    "    # Add the tool to the subcategory\n",
    "    tool_tree[category.id]['subcat'][subcategory.id][\"tools\"].append({\n",
    "        \"id\": tool.id,\n",
    "        \"nodeType\": \"tool\",\n",
    "        \"displayName\": str(tool),\n",
    "        \"icon\": tool.icon,\n",
    "    })\n",
    "\n",
    "for cat in tool_tree.values():\n",
    "    subcat_dict = cat.get('subcat', {})\n",
    "    cat[\"subcategories\"] = tuple(subcat_dict.values())\n",
    "    del cat[\"subcat\"]"
   ]
  },
  {
   "cell_type": "code",
   "execution_count": 29,
   "metadata": {},
   "outputs": [],
   "source": [
    "for cat in tool_tree.values():\n",
    "    subcat_dict = cat.get('subcat', {})\n",
    "    cat[\"subcategories\"] = tuple(subcat_dict.values())\n",
    "    del cat[\"subcat\"]    "
   ]
  },
  {
   "cell_type": "code",
   "execution_count": 32,
   "metadata": {},
   "outputs": [],
   "source": [
    "with open('test_tree_id2.json', 'w+') as f:\n",
    "    json.dump(tool_tree, f)"
   ]
  },
  {
   "cell_type": "code",
   "execution_count": 33,
   "metadata": {},
   "outputs": [],
   "source": [
    "from craftisan.tool_db.queries import getUnassignedTools"
   ]
  },
  {
   "cell_type": "code",
   "execution_count": 34,
   "metadata": {},
   "outputs": [],
   "source": [
    "tree = getUnassignedTools()"
   ]
  },
  {
   "cell_type": "code",
   "execution_count": 36,
   "metadata": {},
   "outputs": [],
   "source": [
    "with open('getUnassignedTools.json', 'w') as f:\n",
    "    json.dump(tree, f)"
   ]
  }
 ],
 "metadata": {
  "kernelspec": {
   "display_name": "Python 3",
   "language": "python",
   "name": "python3"
  },
  "language_info": {
   "codemirror_mode": {
    "name": "ipython",
    "version": 3
   },
   "file_extension": ".py",
   "mimetype": "text/x-python",
   "name": "python",
   "nbconvert_exporter": "python",
   "pygments_lexer": "ipython3",
   "version": "3.9.2"
  }
 },
 "nbformat": 4,
 "nbformat_minor": 2
}
