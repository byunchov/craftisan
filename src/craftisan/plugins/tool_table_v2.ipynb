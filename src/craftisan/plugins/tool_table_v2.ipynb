{
 "cells": [
  {
   "cell_type": "code",
   "execution_count": 1,
   "metadata": {},
   "outputs": [],
   "source": [
    "from deepdiff import DeepDiff"
   ]
  },
  {
   "cell_type": "code",
   "execution_count": 2,
   "metadata": {},
   "outputs": [],
   "source": [
    "import os, io, re"
   ]
  },
  {
   "cell_type": "code",
   "execution_count": 3,
   "metadata": {},
   "outputs": [],
   "source": [
    "from craftisan.tool_db.base import Session, Tool, Pocket"
   ]
  },
  {
   "cell_type": "code",
   "execution_count": 4,
   "metadata": {},
   "outputs": [],
   "source": [
    "NO_TOOL = {\n",
    "    'T': 0,\n",
    "    'C': 0.0,\n",
    "    'D': 0.0,\n",
    "    'P': 0,\n",
    "    'X': 0.0,\n",
    "    'Y': 0.0,\n",
    "    'Z': 0.0,\n",
    "    'R': 'No Tool Loaded',\n",
    "}"
   ]
  },
  {
   "cell_type": "code",
   "execution_count": 5,
   "metadata": {},
   "outputs": [],
   "source": [
    "def getTTData(file, columns='TPXYZCDR'):\n",
    "    if not os.path.exists(file):\n",
    "        print(f\"Tool table file does not exist: {file}\")\n",
    "        return {}\n",
    "    \n",
    "    with io.open(file, 'r') as fh:\n",
    "        lines = [line.strip() for line in fh.readlines()]\n",
    "\n",
    "    table = {0: NO_TOOL,}\n",
    "    for line in lines:\n",
    "\n",
    "        data, sep, comment = line.partition(';')\n",
    "        items = re.findall(r\"([A-Z]+[0-9.+-]+)\", data.replace(' ', ''))\n",
    "\n",
    "        tool = NO_TOOL.copy()\n",
    "        for item in items:\n",
    "            descriptor = item[0]\n",
    "            if descriptor in columns:\n",
    "                value = item[1:]\n",
    "                if descriptor in ('T', 'P', 'Q'):\n",
    "                    try:\n",
    "                        tool[descriptor] = int(value)\n",
    "                    except:\n",
    "                        print(f'Error converting value to int: {value}')\n",
    "                        break\n",
    "                else:\n",
    "                    try:\n",
    "                        tool[descriptor] = float(value)\n",
    "                    except:\n",
    "                        print(f'Error converting value to float: {value}')\n",
    "                        break\n",
    "\n",
    "        tool['R'] = comment.strip()\n",
    "\n",
    "        tnum = tool['T']\n",
    "        if tnum == -1:\n",
    "            continue\n",
    "\n",
    "        table[tnum] = tool\n",
    "\n",
    "    return table.copy()"
   ]
  },
  {
   "cell_type": "code",
   "execution_count": 6,
   "metadata": {},
   "outputs": [],
   "source": [
    "def loadToolTable():\n",
    "    with Session() as session:\n",
    "        pockets = session.query(Pocket).where(Pocket.toolId.is_not(None)).all()\n",
    "\n",
    "        table = {0: NO_TOOL}\n",
    "        table.update({\n",
    "            p.tool.id: p.tool.toTableDict() \n",
    "            for p in pockets if p.tool is not None\n",
    "        })\n",
    "\n",
    "    return table.copy()"
   ]
  },
  {
   "cell_type": "code",
   "execution_count": 7,
   "metadata": {},
   "outputs": [],
   "source": [
    "def merge(source, destination):\n",
    "    \"\"\"\n",
    "    run me with nosetests --with-doctest file.py\n",
    "\n",
    "    >>> a = { 'first' : { 'all_rows' : { 'pass' : 'dog', 'number' : '1' } } }\n",
    "    >>> b = { 'first' : { 'all_rows' : { 'fail' : 'cat', 'number' : '5' } } }\n",
    "    >>> merge(b, a) == { 'first' : { 'all_rows' : { 'pass' : 'dog', 'fail' : 'cat', 'number' : '5' } } }\n",
    "    True\n",
    "    \"\"\"\n",
    "    for key, value in source.items():\n",
    "        if isinstance(value, dict):\n",
    "            # get node or create one\n",
    "            node = destination.setdefault(key, {})\n",
    "            merge(value, node)\n",
    "        else:\n",
    "            destination[key] = value\n",
    "\n",
    "    return destination"
   ]
  },
  {
   "cell_type": "code",
   "execution_count": 8,
   "metadata": {},
   "outputs": [],
   "source": [
    "def merge_dicts(dict1, dict2):\n",
    "    # Find differences between the dictionaries\n",
    "    diff = DeepDiff(dict1, dict2)\n",
    "\n",
    "    # Apply differences to the first dictionary to merge them\n",
    "    for path, change in diff.items():\n",
    "        if path[0] == 'dictionary_item_removed':\n",
    "            key = path[1]\n",
    "            dict1.pop(key, None)\n",
    "        elif path[0] == 'dictionary_item_added' or path[0] == 'values_changed':\n",
    "            key = path[1][0]\n",
    "            dict1[key] = change['new_value']\n",
    "\n",
    "    return dict1"
   ]
  },
  {
   "cell_type": "code",
   "execution_count": 9,
   "metadata": {},
   "outputs": [],
   "source": [
    "def merge_and_get_intersection(dict1, dict2):\n",
    "    # Find differences between the dictionaries\n",
    "    diff = DeepDiff(dict1, dict2)\n",
    "\n",
    "    # Create a new dictionary with only the common elements\n",
    "    intersection_dict = {}\n",
    "    for path, change in diff.items():\n",
    "        if path[0] == 'values_changed':\n",
    "            key = path[1][0]\n",
    "            intersection_dict[key] = dict1[key]\n",
    "\n",
    "    return intersection_dict"
   ]
  },
  {
   "cell_type": "code",
   "execution_count": 10,
   "metadata": {},
   "outputs": [],
   "source": [
    "def merge_and_get_changed(dict1, dict2):\n",
    "    # Find differences between the dictionaries\n",
    "    diff = DeepDiff(dict1, dict2)\n",
    "\n",
    "    # Create a new dictionary with only the changed elements\n",
    "    changed_dict = {}\n",
    "    for path, change in diff.items():\n",
    "        if path[0] == 'values_changed':\n",
    "            key = path[1][0]\n",
    "            changed_dict[key] = dict2[key]\n",
    "        elif path[0] == 'dictionary_item_added':\n",
    "            key = path[1][0]\n",
    "            changed_dict[key] = dict2[key]\n",
    "\n",
    "    return changed_dict"
   ]
  },
  {
   "cell_type": "code",
   "execution_count": 11,
   "metadata": {},
   "outputs": [],
   "source": [
    "tc = loadToolTable()"
   ]
  },
  {
   "cell_type": "code",
   "execution_count": 12,
   "metadata": {},
   "outputs": [],
   "source": [
    "tt = getTTData(\"/home/cnc/linuxcnc/configs/craftisan_h200/tool.tbl\")"
   ]
  },
  {
   "cell_type": "code",
   "execution_count": 9,
   "metadata": {},
   "outputs": [],
   "source": [
    "diff = DeepDiff(tt, tc)"
   ]
  },
  {
   "cell_type": "code",
   "execution_count": null,
   "metadata": {},
   "outputs": [],
   "source": [
    "diff"
   ]
  },
  {
   "cell_type": "code",
   "execution_count": 11,
   "metadata": {},
   "outputs": [
    {
     "data": {
      "text/plain": [
       "False"
      ]
     },
     "execution_count": 11,
     "metadata": {},
     "output_type": "execute_result"
    }
   ],
   "source": [
    "tt == tc"
   ]
  },
  {
   "cell_type": "code",
   "execution_count": 14,
   "metadata": {},
   "outputs": [],
   "source": [
    "new_tt = merge_dicts(tt.copy(), tc)"
   ]
  },
  {
   "cell_type": "code",
   "execution_count": 22,
   "metadata": {},
   "outputs": [
    {
     "data": {
      "text/plain": [
       "{0: {'T': 0,\n",
       "  'C': 0.0,\n",
       "  'D': 0.0,\n",
       "  'P': 0,\n",
       "  'X': 0.0,\n",
       "  'Y': 0.0,\n",
       "  'Z': 0.0,\n",
       "  'R': 'No Tool Loaded'},\n",
       " 1000: {'T': 1000,\n",
       "  'C': 0.0,\n",
       "  'D': 6.0,\n",
       "  'P': 308,\n",
       "  'X': 0.0,\n",
       "  'Y': 0.0,\n",
       "  'Z': 167.682,\n",
       "  'R': 'borgia d6 + faska wz45mm'},\n",
       " 1001: {'T': 1001,\n",
       "  'C': 0.0,\n",
       "  'D': 8.0,\n",
       "  'P': 307,\n",
       "  'X': 0.0,\n",
       "  'Y': 0.0,\n",
       "  'Z': 124.05,\n",
       "  'R': 'trough drill d8'},\n",
       " 1002: {'T': 1002,\n",
       "  'C': 0.0,\n",
       "  'D': 8.0,\n",
       "  'P': 312,\n",
       "  'X': 0.0,\n",
       "  'Y': 0.0,\n",
       "  'Z': 123.504,\n",
       "  'R': 'blind drill d8 i47'},\n",
       " 1501: {'T': 1501,\n",
       "  'C': 0.0,\n",
       "  'D': 12.0,\n",
       "  'P': 315,\n",
       "  'X': 0.0,\n",
       "  'Y': 0.0,\n",
       "  'Z': 97.423,\n",
       "  'R': 'Фрезер MDF D12.0 Z12+1'},\n",
       " 1502: {'T': 1502,\n",
       "  'C': 0.0,\n",
       "  'D': 6.0,\n",
       "  'P': 316,\n",
       "  'X': 0.0,\n",
       "  'Y': 0.0,\n",
       "  'Z': 119.25,\n",
       "  'R': 'd6 z3 mdf'},\n",
       " 1801: {'T': 1801,\n",
       "  'C': 0.0,\n",
       "  'D': 7.5,\n",
       "  'P': 310,\n",
       "  'X': 0.0,\n",
       "  'Y': 0.0,\n",
       "  'Z': 125.32,\n",
       "  'R': 'd7.5 z2'},\n",
       " 2201: {'T': 2201,\n",
       "  'C': 0.0,\n",
       "  'D': 19.7,\n",
       "  'P': 301,\n",
       "  'X': 0.0,\n",
       "  'Y': 0.0,\n",
       "  'Z': 199.588,\n",
       "  'R': '20mm z3'},\n",
       " 2202: {'T': 2202,\n",
       "  'C': 0.0,\n",
       "  'D': 10.0,\n",
       "  'P': 302,\n",
       "  'X': 0.0,\n",
       "  'Y': 0.0,\n",
       "  'Z': 135.472,\n",
       "  'R': 'holker d10 z3'},\n",
       " 2203: {'T': 2203,\n",
       "  'C': 0.0,\n",
       "  'D': 12.0,\n",
       "  'P': 409,\n",
       "  'X': 0.0,\n",
       "  'Y': 0.0,\n",
       "  'Z': 144.355,\n",
       "  'R': 'd12 z3 hss'},\n",
       " 2204: {'T': 2204,\n",
       "  'C': 0.0,\n",
       "  'D': 16.0,\n",
       "  'P': 303,\n",
       "  'X': 0.0,\n",
       "  'Y': 0.0,\n",
       "  'Z': 169.295,\n",
       "  'R': 'grub  d16 z4'},\n",
       " 2205: {'T': 2205,\n",
       "  'C': 0.0,\n",
       "  'D': 16.0,\n",
       "  'P': 304,\n",
       "  'X': 0.0,\n",
       "  'Y': 0.0,\n",
       "  'Z': 158.66,\n",
       "  'R': 'gladykd16 z4'},\n",
       " 2206: {'T': 2206,\n",
       "  'C': 0.0,\n",
       "  'D': 19.1,\n",
       "  'P': 405,\n",
       "  'X': 0.0,\n",
       "  'Y': 0.0,\n",
       "  'Z': 158.317,\n",
       "  'R': 'd19 z4'},\n",
       " 2207: {'T': 2207,\n",
       "  'C': 0.0,\n",
       "  'D': 19.8,\n",
       "  'P': 305,\n",
       "  'X': 0.0,\n",
       "  'Y': 0.0,\n",
       "  'Z': 159.923,\n",
       "  'R': 'rough d20 z3'},\n",
       " 2210: {'T': 2210,\n",
       "  'C': 0.0,\n",
       "  'D': 10.0,\n",
       "  'P': 309,\n",
       "  'X': 0.0,\n",
       "  'Y': 0.0,\n",
       "  'Z': 141.068,\n",
       "  'R': 'rough d10 z3 i52'},\n",
       " 2211: {'T': 2211,\n",
       "  'C': 0.0,\n",
       "  'D': 19.7,\n",
       "  'P': 406,\n",
       "  'X': 0.0,\n",
       "  'Y': 0.0,\n",
       "  'Z': 195.24,\n",
       "  'R': 'Fine d20 Z2+2'},\n",
       " 2501: {'T': 2501,\n",
       "  'C': 0.0,\n",
       "  'D': 51.0,\n",
       "  'P': 410,\n",
       "  'X': 0.0,\n",
       "  'Y': 0.0,\n",
       "  'Z': 141.244,\n",
       "  'R': 'v-kanal d51'},\n",
       " 2502: {'T': 2502,\n",
       "  'C': 0.0,\n",
       "  'D': 87.5,\n",
       "  'P': 318,\n",
       "  'X': 0.0,\n",
       "  'Y': 0.0,\n",
       "  'Z': 129.85,\n",
       "  'R': 'v-kanal 120*'},\n",
       " 2504: {'T': 2504,\n",
       "  'C': 0.0,\n",
       "  'D': 96.5,\n",
       "  'P': 408,\n",
       "  'X': 0.0,\n",
       "  'Y': 0.0,\n",
       "  'Z': 134.766,\n",
       "  'R': 'V-Groover d96 a150*'},\n",
       " 4101: {'T': 4101,\n",
       "  'C': 0.0,\n",
       "  'D': 32.0,\n",
       "  'P': 407,\n",
       "  'X': 0.0,\n",
       "  'Y': 0.0,\n",
       "  'Z': 116.105,\n",
       "  'R': 'double r3 th20 LT115.1'},\n",
       " 5101: {'T': 5101,\n",
       "  'C': 0.0,\n",
       "  'D': 178.0,\n",
       "  'P': 311,\n",
       "  'X': 0.0,\n",
       "  'Y': 0.0,\n",
       "  'Z': 113.345,\n",
       "  'R': 'garga t6 d180 z16'},\n",
       " 5102: {'T': 5102,\n",
       "  'C': 0.0,\n",
       "  'D': 62.0,\n",
       "  'P': 306,\n",
       "  'X': 0.0,\n",
       "  'Y': 0.0,\n",
       "  'Z': 137.11,\n",
       "  'R': 'Frezova glava CMT d62 H80'},\n",
       " 9501: {'T': 9501,\n",
       "  'C': 0.0,\n",
       "  'D': 16.0,\n",
       "  'P': 404,\n",
       "  'X': 0.0,\n",
       "  'Y': 0.0,\n",
       "  'Z': 180.55,\n",
       "  'R': 'aggregat d16 lt137.12'}}"
      ]
     },
     "execution_count": 22,
     "metadata": {},
     "output_type": "execute_result"
    }
   ],
   "source": [
    "new_tt"
   ]
  },
  {
   "cell_type": "code",
   "execution_count": 26,
   "metadata": {},
   "outputs": [
    {
     "data": {
      "text/plain": [
       "False"
      ]
     },
     "execution_count": 26,
     "metadata": {},
     "output_type": "execute_result"
    }
   ],
   "source": [
    "new_tt == tc"
   ]
  },
  {
   "cell_type": "code",
   "execution_count": 20,
   "metadata": {},
   "outputs": [],
   "source": [
    "tt2 = merge_and_get_intersection(tt, tc)"
   ]
  },
  {
   "cell_type": "code",
   "execution_count": 21,
   "metadata": {},
   "outputs": [
    {
     "data": {
      "text/plain": [
       "{}"
      ]
     },
     "execution_count": 21,
     "metadata": {},
     "output_type": "execute_result"
    }
   ],
   "source": [
    "tt2"
   ]
  },
  {
   "cell_type": "code",
   "execution_count": 24,
   "metadata": {},
   "outputs": [],
   "source": [
    "tt3 = merge_and_get_changed(tt, tc)"
   ]
  },
  {
   "cell_type": "code",
   "execution_count": 25,
   "metadata": {},
   "outputs": [
    {
     "data": {
      "text/plain": [
       "{}"
      ]
     },
     "execution_count": 25,
     "metadata": {},
     "output_type": "execute_result"
    }
   ],
   "source": [
    "tt3"
   ]
  },
  {
   "cell_type": "code",
   "execution_count": 29,
   "metadata": {},
   "outputs": [
    {
     "data": {
      "text/plain": [
       "dict_values([{\"root[1001]['R']\": {'new_value': 'Проходна бургия D8.0 I46.0 LT124.05', 'old_value': 'trough drill d8'}, \"root[2206]['Z']\": {'new_value': 161.317, 'old_value': 158.317}, \"root[2501]['R']\": {'new_value': 'V-Канал A91* D51.0', 'old_value': 'v-kanal d51'}, \"root[5101]['R']\": {'new_value': 'Гарга T5.89 D178 Z16', 'old_value': 'garga t6 d180 z16'}, \"root[4101]['R']\": {'new_value': 'Двоен радиус R3/R5 TH20 LT116.105', 'old_value': 'double r3 th20 LT115.1'}, \"root[9501]['P']\": {'new_value': 408, 'old_value': 404}, \"root[2502]['R']\": {'new_value': 'V-Канал A120* D87.5', 'old_value': 'v-kanal 120*'}, \"root[2504]['R']\": {'new_value': 'V-Канал A150* D96.5', 'old_value': 'V-Groover d96 a150*'}, \"root[1002]['R']\": {'new_value': 'Глуха бургия D8.0 I47.0', 'old_value': 'blind drill d8 i47'}, \"root[5102]['R']\": {'new_value': 'Фрезова глава CMT D62.0 H80.0', 'old_value': 'Frezova glava CMT d62 H80'}, \"root[9501]['R']\": {'new_value': 'Агрегат за брави D15.5 LT136.12 LA-16.0', 'old_value': 'aggregat d16 lt137.12'}, \"root[2504]['P']\": {'new_value': 404, 'old_value': 408}, \"root[9501]['D']\": {'new_value': 15.5, 'old_value': 16.0}, \"root[1000]['R']\": {'new_value': 'Бургия + Фаска D6.0 I50.0', 'old_value': 'borgia d6 + faska wz45mm'}}])"
      ]
     },
     "execution_count": 29,
     "metadata": {},
     "output_type": "execute_result"
    }
   ],
   "source": [
    "DeepDiff(new_tt, tc).values()"
   ]
  },
  {
   "cell_type": "code",
   "execution_count": 30,
   "metadata": {},
   "outputs": [],
   "source": [
    "tt4 = merge(tt, tc)"
   ]
  },
  {
   "cell_type": "code",
   "execution_count": 31,
   "metadata": {},
   "outputs": [
    {
     "data": {
      "text/plain": [
       "{}"
      ]
     },
     "execution_count": 31,
     "metadata": {},
     "output_type": "execute_result"
    }
   ],
   "source": [
    "DeepDiff(tc, tt4)"
   ]
  },
  {
   "cell_type": "code",
   "execution_count": null,
   "metadata": {},
   "outputs": [],
   "source": [
    "tt4"
   ]
  },
  {
   "cell_type": "code",
   "execution_count": 13,
   "metadata": {},
   "outputs": [],
   "source": [
    "diff = DeepDiff(tt, tc, exclude_regex_paths=\"\\['R'\\]\")"
   ]
  },
  {
   "cell_type": "code",
   "execution_count": 15,
   "metadata": {},
   "outputs": [],
   "source": [
    "diff2 = DeepDiff(tt, tc)"
   ]
  },
  {
   "cell_type": "code",
   "execution_count": 17,
   "metadata": {},
   "outputs": [
    {
     "data": {
      "text/plain": [
       "{}"
      ]
     },
     "execution_count": 17,
     "metadata": {},
     "output_type": "execute_result"
    }
   ],
   "source": [
    "diff"
   ]
  },
  {
   "cell_type": "code",
   "execution_count": 16,
   "metadata": {},
   "outputs": [
    {
     "data": {
      "text/plain": [
       "{'values_changed': {\"root[2207]['R']\": {'new_value': 'Груб фрезер D19.8 Z3',\n",
       "   'old_value': 'rough d20 z3'},\n",
       "  \"root[9501]['R']\": {'new_value': 'Агрегат за брави D15.5 LT136.12 LA-16.0',\n",
       "   'old_value': 'Агрегат за брави D15.5 LT136.12 LA-16.'}}}"
      ]
     },
     "execution_count": 16,
     "metadata": {},
     "output_type": "execute_result"
    }
   ],
   "source": [
    "diff2"
   ]
  },
  {
   "cell_type": "code",
   "execution_count": 18,
   "metadata": {},
   "outputs": [],
   "source": [
    "comment = \"Агрегат за брави D15.5 LT136.12 LA-16.0 noiwjdoiwjdoi\""
   ]
  },
  {
   "cell_type": "code",
   "execution_count": 20,
   "metadata": {},
   "outputs": [
    {
     "data": {
      "text/plain": [
       "'; Агрегат за брави D15.5 LT136.12 LA-16.0 noiwjdoiwjdoi'"
      ]
     },
     "execution_count": 20,
     "metadata": {},
     "output_type": "execute_result"
    }
   ],
   "source": [
    "f'; {comment:.37}'"
   ]
  },
  {
   "cell_type": "code",
   "execution_count": 1,
   "metadata": {},
   "outputs": [
    {
     "data": {
      "text/plain": [
       "{'l': 0, 'h': 0, 's': 0, 'x': 0, 'y': 0, 'z': 0}"
      ]
     },
     "execution_count": 1,
     "metadata": {},
     "output_type": "execute_result"
    }
   ],
   "source": [
    "dim = {k: 0 for k in 'lhs'}\n",
    "ofs = {k: 0 for k in 'xyz'}\n",
    "\n",
    "pice_data = {**dim, **ofs}\n",
    "pice_data"
   ]
  },
  {
   "cell_type": "code",
   "execution_count": 3,
   "metadata": {},
   "outputs": [
    {
     "data": {
      "text/plain": [
       "{'x': 0, 'y': 0, 'z': 0}"
      ]
     },
     "execution_count": 3,
     "metadata": {},
     "output_type": "execute_result"
    }
   ],
   "source": [
    "{p: dim[k] for p, k in zip('xyz', 'lhs')}"
   ]
  },
  {
   "cell_type": "code",
   "execution_count": 4,
   "metadata": {},
   "outputs": [
    {
     "data": {
      "text/plain": [
       "{'x': 0, 'y': 0, 'z': 0, 'i': 0, 'j': 0, 'k': 0}"
      ]
     },
     "execution_count": 4,
     "metadata": {},
     "output_type": "execute_result"
    }
   ],
   "source": [
    "{p: pice_data[k] for p, k in zip('xyzijk', 'lhsxyz')}"
   ]
  },
  {
   "cell_type": "code",
   "execution_count": 6,
   "metadata": {},
   "outputs": [
    {
     "data": {
      "text/plain": [
       "'G45 X0.000 Y0.000 Z0.000 I0.000 J0.000 K0.000'"
      ]
     },
     "execution_count": 6,
     "metadata": {},
     "output_type": "execute_result"
    }
   ],
   "source": [
    "merged = {p: pice_data[k] for p, k in zip('xyzijk', 'lhsxyz')}\n",
    "gcode = ['G45']\n",
    "gcode.extend([f'{k.upper()}{merged[k]:.3f}' for k in 'xyzijk'])\n",
    "\n",
    "' '.join(gcode)"
   ]
  },
  {
   "cell_type": "code",
   "execution_count": 3,
   "metadata": {},
   "outputs": [],
   "source": [
    "def test_func(x):\n",
    "    if x is None or x == 0:\n",
    "        return (True, x)\n",
    "\n",
    "    return (False, x)"
   ]
  },
  {
   "cell_type": "code",
   "execution_count": 6,
   "metadata": {},
   "outputs": [
    {
     "data": {
      "text/plain": [
       "(128, None, 7, 14, 9, None, None)"
      ]
     },
     "execution_count": 6,
     "metadata": {},
     "output_type": "execute_result"
    }
   ],
   "source": [
    "row_data = [128, 0, 7, 14, 9, None, None]\n",
    "# tuple(None if x == 0 else x for x in row_data)\n",
    "# tuple(None if x == 0 else x for x in row_data)"
   ]
  },
  {
   "cell_type": "code",
   "execution_count": 11,
   "metadata": {},
   "outputs": [
    {
     "data": {
      "text/plain": [
       "(14, 9, 7, None, None, None)"
      ]
     },
     "execution_count": 11,
     "metadata": {},
     "output_type": "execute_result"
    }
   ],
   "source": [
    "row_data = [128, 0, 7, 14, 9, None, None]\n",
    "row_data = tuple(None if x == 0 else x for x in row_data)\n",
    "# tuple(sorted(row_data[1:], key=test_func))\n",
    "tuple(sorted(row_data[1:], key=lambda x: (x is not None, x), reverse=True))"
   ]
  }
 ],
 "metadata": {
  "kernelspec": {
   "display_name": "Python 3",
   "language": "python",
   "name": "python3"
  },
  "language_info": {
   "codemirror_mode": {
    "name": "ipython",
    "version": 3
   },
   "file_extension": ".py",
   "mimetype": "text/x-python",
   "name": "python",
   "nbconvert_exporter": "python",
   "pygments_lexer": "ipython3",
   "version": "3.9.2"
  }
 },
 "nbformat": 4,
 "nbformat_minor": 2
}
